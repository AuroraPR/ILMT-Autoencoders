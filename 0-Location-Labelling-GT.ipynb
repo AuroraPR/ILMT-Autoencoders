{
 "cells": [
  {
   "cell_type": "code",
   "execution_count": 1,
   "id": "b70568b2",
   "metadata": {},
   "outputs": [
    {
     "name": "stdout",
     "output_type": "stream",
     "text": [
      "Current Position =  (5, 74)\n"
     ]
    },
    {
     "name": "stderr",
     "output_type": "stream",
     "text": [
      "Exception in Tkinter callback\n",
      "Traceback (most recent call last):\n",
      "  File \"C:\\Users\\javie\\anaconda3\\lib\\tkinter\\__init__.py\", line 1892, in __call__\n",
      "    return self.func(*args)\n",
      "  File \"C:\\Users\\javie\\AppData\\Local\\Temp\\ipykernel_36468\\1585764219.py\", line 29, in motion\n",
      "    file = open(os.path.join(pathLocation , key_file_time()+\".location.tsv\"), 'a')\n",
      "FileNotFoundError: [Errno 2] No such file or directory: 'C:\\\\Users\\\\javie\\\\Documents\\\\GitHub\\\\discriminate-presence\\\\Areas FP2 HA + UWB + fingerprint\\\\data/location_gt\\\\19808.location.tsv'\n"
     ]
    },
    {
     "name": "stdout",
     "output_type": "stream",
     "text": [
      "Current Position =  (3, 157)\n"
     ]
    },
    {
     "name": "stderr",
     "output_type": "stream",
     "text": [
      "Exception in Tkinter callback\n",
      "Traceback (most recent call last):\n",
      "  File \"C:\\Users\\javie\\anaconda3\\lib\\tkinter\\__init__.py\", line 1892, in __call__\n",
      "    return self.func(*args)\n",
      "  File \"C:\\Users\\javie\\AppData\\Local\\Temp\\ipykernel_36468\\1585764219.py\", line 29, in motion\n",
      "    file = open(os.path.join(pathLocation , key_file_time()+\".location.tsv\"), 'a')\n",
      "FileNotFoundError: [Errno 2] No such file or directory: 'C:\\\\Users\\\\javie\\\\Documents\\\\GitHub\\\\discriminate-presence\\\\Areas FP2 HA + UWB + fingerprint\\\\data/location_gt\\\\19808.location.tsv'\n"
     ]
    }
   ],
   "source": [
    "from datetime import datetime\n",
    "import os\n",
    "from tkinter import *\n",
    "from PIL import ImageTk, Image\n",
    "import time\n",
    "\n",
    "pathLocation=os.path.join(os.getcwd(),\"data/location_gt\")\n",
    "\n",
    "def getTime():\n",
    "    return str(int(time.time()))+\"\\t\"+datetime.now().strftime(\"%Y-%m-%d %H:%M:%S\")\n",
    "\n",
    "def key_file_time():\n",
    "    return str((int)(time.time()/(60*60*24)))\n",
    "\n",
    "def key_file_time_now():\n",
    "    return str((int)(time.time()))\n",
    "\n",
    "def create_circle(x, y, r, canvasName): #center coordinates, radius\n",
    "    x0 = x - r\n",
    "    y0 = y - r\n",
    "    x1 = x + r\n",
    "    y1 = y + r\n",
    "    return canvasName.create_oval(x0, y0, x1, y1, fill=\"red\")\n",
    "\n",
    "def motion(event):\n",
    "    x, y = event.x, event.y\n",
    "    print(\"Current Position = \", (x, y))\n",
    "    create_circle(x, y, 25, canvas)\n",
    "    file = open(os.path.join(pathLocation , key_file_time()+\".location.tsv\"), 'a') \n",
    "    file.write(getTime()+\"\\t\"+key_file_time_now()+\"\\t\"+str(x)+\"\\t\"+str(y)+\"\\n\")\n",
    "    file.close()\n",
    "\n",
    "win = Tk()\n",
    "\n",
    "img = ImageTk.PhotoImage(Image.open(\"Bathroom.png\").resize((231, 539)))\n",
    "canvas = Canvas(win, height=539, width=231)\n",
    "canvas.create_image(0, 0,anchor=NW, image=img)\n",
    "canvas.bind('<Button 1>', motion)\n",
    "\n",
    "canvas.pack()\n",
    "\n",
    "win.mainloop()"
   ]
  },
  {
   "cell_type": "code",
   "execution_count": null,
   "id": "96a18782",
   "metadata": {},
   "outputs": [],
   "source": []
  }
 ],
 "metadata": {
  "kernelspec": {
   "display_name": "Python 3 (ipykernel)",
   "language": "python",
   "name": "python3"
  },
  "language_info": {
   "codemirror_mode": {
    "name": "ipython",
    "version": 3
   },
   "file_extension": ".py",
   "mimetype": "text/x-python",
   "name": "python",
   "nbconvert_exporter": "python",
   "pygments_lexer": "ipython3",
   "version": "3.9.13"
  }
 },
 "nbformat": 4,
 "nbformat_minor": 5
}
